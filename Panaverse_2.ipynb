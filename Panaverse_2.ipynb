{
  "nbformat": 4,
  "nbformat_minor": 0,
  "metadata": {
    "colab": {
      "provenance": [],
      "authorship_tag": "ABX9TyMpUUp9DFG9s3pgNXWhkGdj",
      "include_colab_link": true
    },
    "kernelspec": {
      "name": "python3",
      "display_name": "Python 3"
    },
    "language_info": {
      "name": "python"
    }
  },
  "cells": [
    {
      "cell_type": "markdown",
      "metadata": {
        "id": "view-in-github",
        "colab_type": "text"
      },
      "source": [
        "<a href=\"https://colab.research.google.com/github/Aatika1/openai-API/blob/main/Panaverse_2.ipynb\" target=\"_parent\"><img src=\"https://colab.research.google.com/assets/colab-badge.svg\" alt=\"Open In Colab\"/></a>"
      ]
    },
    {
      "cell_type": "code",
      "execution_count": 1,
      "metadata": {
        "colab": {
          "base_uri": "https://localhost:8080/"
        },
        "id": "GyfbNcU-VfAg",
        "outputId": "91c9062c-4d08-4577-ce22-db21191c5d35"
      },
      "outputs": [
        {
          "output_type": "stream",
          "name": "stdout",
          "text": [
            "\u001b[?25l   \u001b[90m━━━━━━━━━━━━━━━━━━━━━━━━━━━━━━━━━━━━━━━━\u001b[0m \u001b[32m0.0/41.8 kB\u001b[0m \u001b[31m?\u001b[0m eta \u001b[36m-:--:--\u001b[0m\r\u001b[2K   \u001b[90m━━━━━━━━━━━━━━━━━━━━━━━━━━━━━━━━━━━━━━━━\u001b[0m \u001b[32m41.8/41.8 kB\u001b[0m \u001b[31m1.3 MB/s\u001b[0m eta \u001b[36m0:00:00\u001b[0m\n",
            "\u001b[?25h\u001b[?25l   \u001b[90m━━━━━━━━━━━━━━━━━━━━━━━━━━━━━━━━━━━━━━━━\u001b[0m \u001b[32m0.0/124.8 kB\u001b[0m \u001b[31m?\u001b[0m eta \u001b[36m-:--:--\u001b[0m\r\u001b[2K   \u001b[90m━━━━━━━━━━━━━━━━━━━━━━━━━━━━━━━━━━━━━━━━\u001b[0m \u001b[32m124.8/124.8 kB\u001b[0m \u001b[31m5.5 MB/s\u001b[0m eta \u001b[36m0:00:00\u001b[0m\n",
            "\u001b[?25h"
          ]
        }
      ],
      "source": [
        "!pip install -q -U langchain langchain-google-genai langgraph"
      ]
    },
    {
      "cell_type": "code",
      "source": [
        "from google.colab import userdata\n",
        "google_api=userdata.get('GEMINI_API_KEY')"
      ],
      "metadata": {
        "id": "0CEkx1FYVxac"
      },
      "execution_count": 2,
      "outputs": []
    },
    {
      "cell_type": "code",
      "source": [
        "from langchain_google_genai import ChatGoogleGenerativeAI\n",
        "llm:ChatGoogleGenerativeAI=ChatGoogleGenerativeAI(\n",
        "    model='gemni-1.5-flash',\n",
        "    api_key=\"google_api\",\n",
        ")"
      ],
      "metadata": {
        "id": "t48Eji-_WPF4"
      },
      "execution_count": 3,
      "outputs": []
    },
    {
      "cell_type": "code",
      "source": [
        "from langchain_core.messages.ai import AIMessage\n",
        "\n",
        "ai_msg:AIMessage=llm.invoke(\"hello?\")"
      ],
      "metadata": {
        "id": "vp8u2c4aY1eG"
      },
      "execution_count": 6,
      "outputs": []
    },
    {
      "cell_type": "code",
      "source": [
        "print(ai_msg.content)"
      ],
      "metadata": {
        "colab": {
          "base_uri": "https://localhost:8080/"
        },
        "id": "WQ4QsNIhaTrN",
        "outputId": "d54deef1-ed7e-45eb-d24d-aebb8d616730"
      },
      "execution_count": 7,
      "outputs": [
        {
          "output_type": "stream",
          "name": "stdout",
          "text": [
            "Hello there! How can I assist you today?\n"
          ]
        }
      ]
    },
    {
      "cell_type": "code",
      "source": [
        "from typing_extensions import TypedDict\n",
        "\n",
        "class customer_service(TypedDict):\n",
        "  prompt:str\n",
        "  output:str\n"
      ],
      "metadata": {
        "id": "AoJSYaOOafCZ"
      },
      "execution_count": 11,
      "outputs": []
    },
    {
      "cell_type": "code",
      "source": [
        "def chatbot(state:customer_service):\n",
        "  print(\"---chatbot---\",state)\n",
        "  prompt=state[\"prompt\"]\n",
        "  ai_msg:AIMessage=llm.invoke(prompt)\n",
        "  return(\"output\",ai_msg.content)"
      ],
      "metadata": {
        "id": "m66bQRAta38v"
      },
      "execution_count": 12,
      "outputs": []
    },
    {
      "cell_type": "code",
      "source": [
        "abuzar_greet=chatbot(customer_service(prompt=\"Hi I am abuzar\"))\n",
        "print(abuzar_greet)"
      ],
      "metadata": {
        "colab": {
          "base_uri": "https://localhost:8080/"
        },
        "id": "D1ge0Fn0bmvc",
        "outputId": "da9b0e27-c29b-4c58-db48-186c072ec618"
      },
      "execution_count": 14,
      "outputs": [
        {
          "output_type": "stream",
          "name": "stdout",
          "text": [
            "---chatbot--- {'prompt': 'Hi I am abuzar'}\n",
            "('output', \"Hello Abuzar, it's nice to meet you. My name is Gemini, and I'm a large multi-modal model, trained by Google. I'm designed to understand and generate human language, and to answer questions and provide information to the best of my abilities. Is there anything I can help you with today?\")\n"
          ]
        }
      ]
    },
    {
      "cell_type": "code",
      "source": [
        "from IPython.display import Image, display\n",
        "\n",
        "from langgraph.graph import StateGraph, START, END\n",
        "from langgraph.graph.state import CompiledStateGraph\n",
        "\n",
        "builder:StateGraph=StateGraph(state_schema=customer_service)\n",
        "\n",
        "builder.add_node(\"chatbot\",chatbot)\n",
        "\n",
        "builder.add_edge(START,\"chatbot\")\n",
        "builder.add_edge(\"chatbot\",END)\n",
        "\n",
        "graph:CompiledStateGraph=builder.compile()\n"
      ],
      "metadata": {
        "id": "5ub4Abvjb-72"
      },
      "execution_count": 18,
      "outputs": []
    },
    {
      "cell_type": "code",
      "source": [
        "display(Image(graph.get_graph().draw_mermaid_png()))"
      ],
      "metadata": {
        "colab": {
          "base_uri": "https://localhost:8080/",
          "height": 251
        },
        "id": "dIcep_i8dH0i",
        "outputId": "c52492eb-dbce-4a12-a1ce-15071b40c2df"
      },
      "execution_count": 19,
      "outputs": [
        {
          "output_type": "display_data",
          "data": {
            "image/jpeg": "[encoded data removed]",
            "text/plain": [
              "<IPython.core.display.Image object>"
            ]
          },
          "metadata": {}
        }
      ]
    },
    {
      "cell_type": "code",
      "source": [
        "result=graph.invoke({\"prompt\" : \"what is AI agent\"})"
      ],
      "metadata": {
        "colab": {
          "base_uri": "https://localhost:8080/"
        },
        "id": "dIgH6yzFdgri",
        "outputId": "5f7f6c7f-4520-4791-9803-b9b9d8ca7b1d"
      },
      "execution_count": 28,
      "outputs": [
        {
          "output_type": "stream",
          "name": "stdout",
          "text": [
            "---chatbot--- {'prompt': 'what is AI agent'}\n"
          ]
        }
      ]
    },
    {
      "cell_type": "code",
      "source": [
        "print(result)"
      ],
      "metadata": {
        "colab": {
          "base_uri": "https://localhost:8080/"
        },
        "id": "mPshVEMVGM45",
        "outputId": "2f983635-5869-4e76-da7e-19c2e0be7c1d"
      },
      "execution_count": 31,
      "outputs": [
        {
          "output_type": "stream",
          "name": "stdout",
          "text": [
            "{'prompt': 'what is AI agent', 'output': '**Definition:**\\n\\nAn AI agent is a computational entity that can perceive its environment, reason about it, and take actions to achieve its goals.\\n\\n**Characteristics:**\\n\\n* **Autonomy:** Can operate independently of human control.\\n* **Perception:** Can sense and interpret information from the environment.\\n* **Reasoning:** Can process information to make decisions and solve problems.\\n* **Goal-oriented:** Has specific objectives it aims to achieve.\\n* **Learning:** Can adapt and improve its performance based on experience.\\n* **Interaction:** Can communicate with and affect its environment.\\n\\n**Types of AI Agents:**\\n\\n* **Reactive agents:** Respond to immediate stimuli without memory or planning.\\n* **Model-based agents:** Build internal models of the environment to make decisions.\\n* **Goal-based agents:** Use a goal-oriented approach to plan actions and achieve objectives.\\n* **Utility-based agents:** Make decisions based on the expected utility of their actions.\\n* **Reinforcement learning agents:** Learn through trial and error, adjusting their actions based on rewards and punishments.\\n\\n**Applications:**\\n\\nAI agents are used in a wide range of applications, including:\\n\\n* Robotics and autonomous systems\\n* Game playing\\n* Natural language processing\\n* Image and video recognition\\n* Decision support systems\\n* Customer service chatbots\\n\\n**Benefits:**\\n\\n* **Increased efficiency:** Can automate tasks and improve productivity.\\n* **Improved decision-making:** Can provide insights and recommendations based on data analysis.\\n* **Enhanced customer experience:** Can offer personalized interactions and support.\\n* **Innovation:** Can drive new research and development opportunities.\\n\\n**Ethical Considerations:**\\n\\n* **Autonomy:** Balancing the need for autonomy with human oversight and accountability.\\n* **Bias:** Ensuring that AI agents are not biased against certain groups or individuals.\\n* **Privacy:** Protecting user data and privacy when using AI agents.\\n* **Transparency:** Making the decision-making processes of AI agents understandable and explainable.'}\n"
          ]
        }
      ]
    }
  ]
}