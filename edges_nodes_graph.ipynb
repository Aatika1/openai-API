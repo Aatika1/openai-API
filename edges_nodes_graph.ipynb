{
  "nbformat": 4,
  "nbformat_minor": 0,
  "metadata": {
    "colab": {
      "provenance": [],
      "authorship_tag": "ABX9TyNJVPpE3H9JIlADWI+oRpQx",
      "include_colab_link": true
    },
    "kernelspec": {
      "name": "python3",
      "display_name": "Python 3"
    },
    "language_info": {
      "name": "python"
    }
  },
  "cells": [
    {
      "cell_type": "markdown",
      "metadata": {
        "id": "view-in-github",
        "colab_type": "text"
      },
      "source": [
        "<a href=\"https://colab.research.google.com/github/Aatika1/openai-API/blob/main/edges_nodes_graph.ipynb\" target=\"_parent\"><img src=\"https://colab.research.google.com/assets/colab-badge.svg\" alt=\"Open In Colab\"/></a>"
      ]
    },
    {
      "cell_type": "code",
      "execution_count": 30,
      "metadata": {
        "id": "uhIcczzcNbnH"
      },
      "outputs": [],
      "source": [
        "%%capture --no-stderr\n",
        "%pip install --quiet -U langgraph"
      ]
    },
    {
      "cell_type": "code",
      "source": [
        "#define state\n",
        "from typing_extensions import TypedDict\n",
        "\n",
        "class LearningState(TypedDict):\n",
        "  prompt:str"
      ],
      "metadata": {
        "id": "YnRYRg5YNjQ_"
      },
      "execution_count": 31,
      "outputs": []
    },
    {
      "cell_type": "code",
      "source": [
        "# prompt: create an example from above LearningState\n",
        "\n",
        "abu_state:LearningState =LearningState(prompt= \"Hi this abuzar \")"
      ],
      "metadata": {
        "id": "B-TCryzROL5e"
      },
      "execution_count": 32,
      "outputs": []
    },
    {
      "cell_type": "code",
      "source": [
        "# print(abu_state)\n",
        "# print(abu_state['prompt'])\n",
        "print(abu_state['prompt'] + \" I am\")\n",
        "print(type(abu_state))"
      ],
      "metadata": {
        "id": "88dM646cOvB2",
        "outputId": "af6a3a10-5a0a-4084-a1cd-0065ed438bc0",
        "colab": {
          "base_uri": "https://localhost:8080/"
        }
      },
      "execution_count": 33,
      "outputs": [
        {
          "output_type": "stream",
          "name": "stdout",
          "text": [
            "Hi this abuzar  I am\n",
            "<class 'dict'>\n"
          ]
        }
      ]
    },
    {
      "cell_type": "code",
      "source": [
        "#Nodes are just py functions\n",
        "def node1(state:LearningState)->LearningState:\n",
        "  print(\"Node_1 State\",state)\n",
        "  return{\"prompt\":state['prompt'] + \" I am\"}\n",
        "\n",
        "def node2(state:LearningState)->LearningState:\n",
        "  print(\"Node_2\",state)\n",
        "  return{\"prompt\":state[\"prompt\"]+\" Abuzar \"}\n",
        "\n",
        "def node3(state:LearningState)->LearningState:\n",
        "  print(\"Node_3\",state)\n",
        "  return{\"prompt\": state[\"prompt\"]+\" I am learning Agentic AI from PIAIC\"}\n"
      ],
      "metadata": {
        "id": "fY96hDfUPS6l"
      },
      "execution_count": 34,
      "outputs": []
    },
    {
      "cell_type": "code",
      "source": [
        "#edges connect to nodes and graph construct\n",
        "\n",
        "from IPython.display import Image, display # Preview Graph\n",
        "\n",
        "from langgraph.graph import StateGraph,START,END\n",
        "from langgraph.graph.state import CompiledStateGraph # type\n",
        "\n",
        "builder:StateGraph=StateGraph(state_schema=LearningState)"
      ],
      "metadata": {
        "id": "Br-DRgUaQyoc"
      },
      "execution_count": 35,
      "outputs": []
    },
    {
      "cell_type": "code",
      "source": [
        "print(type(builder))"
      ],
      "metadata": {
        "id": "2aJ0e23BRzGU",
        "outputId": "faeb7cfc-e008-4714-b905-19cee71432de",
        "colab": {
          "base_uri": "https://localhost:8080/"
        }
      },
      "execution_count": 36,
      "outputs": [
        {
          "output_type": "stream",
          "name": "stdout",
          "text": [
            "<class 'langgraph.graph.state.StateGraph'>\n"
          ]
        }
      ]
    },
    {
      "cell_type": "code",
      "source": [
        "# Nodes\n",
        "builder.add_node(\"node1\",node1)\n",
        "builder.add_node(\"node2\",node2)\n",
        "builder.add_node(\"node3\",node3)"
      ],
      "metadata": {
        "id": "rsr4K9HcR5-6",
        "outputId": "83a7e162-0fbf-4600-e65d-2c0bc4afb90a",
        "colab": {
          "base_uri": "https://localhost:8080/"
        }
      },
      "execution_count": 37,
      "outputs": [
        {
          "output_type": "execute_result",
          "data": {
            "text/plain": [
              "<langgraph.graph.state.StateGraph at 0x77ffe0fb6140>"
            ]
          },
          "metadata": {},
          "execution_count": 37
        }
      ]
    },
    {
      "cell_type": "code",
      "source": [
        "# edges logic\n",
        "builder.add_edge(START,\"node1\")\n",
        "builder.add_edge(\"node1\",\"node2\")\n",
        "builder.add_edge(\"node2\",\"node3\")\n",
        "builder.add_edge(\"node3\",END)"
      ],
      "metadata": {
        "id": "U-q6Gs7zSJod",
        "outputId": "234cd174-612f-494d-efff-504ef483a5ea",
        "colab": {
          "base_uri": "https://localhost:8080/"
        }
      },
      "execution_count": 38,
      "outputs": [
        {
          "output_type": "execute_result",
          "data": {
            "text/plain": [
              "<langgraph.graph.state.StateGraph at 0x77ffe0fb6140>"
            ]
          },
          "metadata": {},
          "execution_count": 38
        }
      ]
    },
    {
      "cell_type": "code",
      "source": [
        "graph:CompiledStateGraph=builder.compile()"
      ],
      "metadata": {
        "id": "nuSDowlUShkt"
      },
      "execution_count": 39,
      "outputs": []
    },
    {
      "cell_type": "code",
      "source": [
        "# View\n",
        "display(Image(graph.get_graph().draw_mermaid_png()))"
      ],
      "metadata": {
        "id": "aDqhTcjyStON",
        "outputId": "7543caa7-bd97-4070-bc94-f0e50d2728ee",
        "colab": {
          "base_uri": "https://localhost:8080/",
          "height": 449
        }
      },
      "execution_count": 40,
      "outputs": [
        {
          "output_type": "display_data",
          "data": {
            "image/png": "[encoded data removed]",
            "text/plain": [
              "<IPython.core.display.Image object>"
            ]
          },
          "metadata": {}
        }
      ]
    },
    {
      "cell_type": "code",
      "source": [
        "#Graph Invocation\n",
        "graph.invoke({\"prompt\":\"hi\"})"
      ],
      "metadata": {
        "id": "oaO835L7THYV",
        "outputId": "f5660e96-326f-4307-cba7-bed2b1d4b3c9",
        "colab": {
          "base_uri": "https://localhost:8080/"
        }
      },
      "execution_count": 41,
      "outputs": [
        {
          "output_type": "stream",
          "name": "stdout",
          "text": [
            "Node_1 State {'prompt': 'hi'}\n",
            "Node_2 {'prompt': 'hi I am'}\n",
            "Node_3 {'prompt': 'hi I am Abuzar '}\n"
          ]
        },
        {
          "output_type": "execute_result",
          "data": {
            "text/plain": [
              "{'prompt': 'hi I am Abuzar  I am learning Agentic AI from PIAIC'}"
            ]
          },
          "metadata": {},
          "execution_count": 41
        }
      ]
    },
    {
      "cell_type": "markdown",
      "source": [
        "#Task: In Nodes Use LLM == GoogleChatModel in Langchain"
      ],
      "metadata": {
        "id": "puapEZE4PG5d"
      }
    },
    {
      "cell_type": "code",
      "source": [
        "%pip install -q -U langchain\n",
        "%pip install -q -U langchain-google-genai\n"
      ],
      "metadata": {
        "id": "MU20wwMuPI4j"
      },
      "execution_count": 42,
      "outputs": []
    },
    {
      "cell_type": "code",
      "source": [
        "from google.colab import userdata\n",
        "google_api_key = userdata.get('GEMINI_API_KEY')"
      ],
      "metadata": {
        "id": "qjv-bVTOPNm2"
      },
      "execution_count": 75,
      "outputs": []
    },
    {
      "cell_type": "code",
      "source": [
        "from langchain_google_genai import ChatGoogleGenerativeAI\n",
        "\n",
        "# Initialize an instance of the ChatGoogleGenerativeAI with specific parameters\n",
        "llm: ChatGoogleGenerativeAI = ChatGoogleGenerativeAI(\n",
        "    model=\"gemini-1.5-flash\",  # Specify the model to use\n",
        "    api_key=google_api_key,     # Provide the Google API key for authentication\n",
        ")"
      ],
      "metadata": {
        "id": "iKUZxmUxPcXV"
      },
      "execution_count": 76,
      "outputs": []
    },
    {
      "cell_type": "code",
      "source": [
        "# Import the AIMessage class currently will be used for typing\n",
        "from langchain_core.messages.ai import AIMessage\n",
        "\n",
        "ai_msg: AIMessage = llm.invoke(\"Hi?\")"
      ],
      "metadata": {
        "id": "Gc-XbDbLQVob"
      },
      "execution_count": 77,
      "outputs": []
    },
    {
      "cell_type": "code",
      "source": [
        "print(ai_msg.content)"
      ],
      "metadata": {
        "id": "22qJFfEBQv1U",
        "outputId": "52ebd671-14d5-4811-a59b-19a3a8a9f3e7",
        "colab": {
          "base_uri": "https://localhost:8080/"
        }
      },
      "execution_count": 78,
      "outputs": [
        {
          "output_type": "stream",
          "name": "stdout",
          "text": [
            "Hi there! How can I help you today?\n",
            "\n"
          ]
        }
      ]
    },
    {
      "cell_type": "code",
      "source": [
        "from typing_extensions import TypedDict\n",
        "\n",
        "class LLMAgent(TypedDict):\n",
        "    prompt: str\n",
        "    output: str"
      ],
      "metadata": {
        "id": "JkXHLLPuQe-M"
      },
      "execution_count": 86,
      "outputs": []
    },
    {
      "cell_type": "code",
      "source": [
        "def node_1(state: LLMAgent):\n",
        "    print(\"---Node 1---\", state)\n",
        "    prompt = state[\"prompt\"]\n",
        "    ai_msg: AIMessage = llm.invoke(prompt)\n",
        "    return {\"output\": ai_msg.content}"
      ],
      "metadata": {
        "id": "zzYIHHe2RS1m"
      },
      "execution_count": 87,
      "outputs": []
    },
    {
      "cell_type": "code",
      "source": [
        "Abuzar = node_1(LLMAgent(prompt=\"Hello I am Abuzar\"))\n",
        "print(Abuzar)"
      ],
      "metadata": {
        "id": "jVquGJhnRbS7",
        "outputId": "2c46021e-0114-4607-e1c3-5d93332474be",
        "colab": {
          "base_uri": "https://localhost:8080/"
        }
      },
      "execution_count": 88,
      "outputs": [
        {
          "output_type": "stream",
          "name": "stdout",
          "text": [
            "---Node 1--- {'prompt': 'Hello I am Abuzar'}\n",
            "{'output': \"Hello Abuzar, it's nice to meet you! How can I help you today?\\n\"}\n"
          ]
        }
      ]
    },
    {
      "cell_type": "code",
      "source": [
        "from IPython.display import Image, display # Preview Graph\n",
        "\n",
        "from langgraph.graph import StateGraph, START, END\n",
        "from langgraph.graph.state import CompiledStateGraph # type\n",
        "\n",
        "# Build graph\n",
        "builder: StateGraph = StateGraph(state_schema=LLMAgent)\n",
        "\n",
        "# Define Nodes\n",
        "builder.add_node(\"chatbot\", node_1)\n",
        "\n",
        "# Add Edges\n",
        "builder.add_edge(START, \"chatbot\")\n",
        "builder.add_edge(\"chatbot\", END)\n",
        "\n",
        "# Compile Graph\n",
        "graph: CompiledStateGraph = builder.compile()"
      ],
      "metadata": {
        "id": "5uY3ClpKTtaq"
      },
      "execution_count": 89,
      "outputs": []
    },
    {
      "cell_type": "code",
      "source": [
        "# view\n",
        "display(Image(graph.get_graph().draw_mermaid_png()))"
      ],
      "metadata": {
        "id": "VjReqQLMXCbV",
        "outputId": "968b6105-2f4b-4f45-95e3-0352306dbdce",
        "colab": {
          "base_uri": "https://localhost:8080/",
          "height": 251
        }
      },
      "execution_count": 90,
      "outputs": [
        {
          "output_type": "display_data",
          "data": {
            "image/png": "[encoded data removed]",
            "text/plain": [
              "<IPython.core.display.Image object>"
            ]
          },
          "metadata": {}
        }
      ]
    },
    {
      "cell_type": "code",
      "source": [
        "AI=graph.invoke({\"prompt\":\"What is AI\"})"
      ],
      "metadata": {
        "id": "JgiWFYaMiXdm",
        "outputId": "d66e2c11-6756-425c-adce-bc14aea1e677",
        "colab": {
          "base_uri": "https://localhost:8080/"
        }
      },
      "execution_count": 98,
      "outputs": [
        {
          "output_type": "stream",
          "name": "stdout",
          "text": [
            "---Node 1--- {'prompt': 'What is AI'}\n"
          ]
        }
      ]
    },
    {
      "cell_type": "code",
      "source": [
        "print(AI)"
      ],
      "metadata": {
        "id": "PfNtVa-Aic5f",
        "outputId": "f58dbd97-eb70-4978-8ac0-55a3045f9140",
        "colab": {
          "base_uri": "https://localhost:8080/"
        }
      },
      "execution_count": 99,
      "outputs": [
        {
          "output_type": "stream",
          "name": "stdout",
          "text": [
            "{'prompt': 'What is AI', 'output': 'Artificial intelligence (AI) is a broad field encompassing the development of computer systems capable of performing tasks that typically require human intelligence.  These tasks include things like:\\n\\n* **Learning:** Acquiring information and rules for using the information.\\n* **Reasoning:** Using rules to reach approximate or definite conclusions.\\n* **Problem-solving:** Finding solutions to complex situations.\\n* **Perception:** Interpreting sensory information like images, sound, and text.\\n* **Language understanding:** Processing and generating human language.\\n\\nAI systems achieve these capabilities through various techniques, including:\\n\\n* **Machine learning (ML):** Algorithms that allow systems to learn from data without explicit programming.  This includes subfields like deep learning (using artificial neural networks with many layers) and reinforcement learning (learning through trial and error).\\n* **Natural language processing (NLP):** Enabling computers to understand, interpret, and generate human language.\\n* **Computer vision:** Enabling computers to \"see\" and interpret images and videos.\\n* **Robotics:** Combining AI with physical robots to perform tasks in the real world.\\n\\nIt\\'s important to distinguish between different types of AI:\\n\\n* **Narrow or Weak AI:** AI designed for a specific task, like playing chess or recommending products.  This is the most common type of AI today.\\n* **General or Strong AI:** Hypothetical AI with human-level intelligence and the ability to perform any intellectual task that a human being can.  This does not currently exist.\\n* **Super AI:** Hypothetical AI that surpasses human intelligence in all aspects.  This is purely speculative.\\n\\nIn short, AI is not a single thing but a collection of techniques and technologies aimed at creating intelligent systems.  Its applications are rapidly expanding across many industries, from healthcare and finance to transportation and entertainment.\\n'}\n"
          ]
        }
      ]
    }
  ]
}