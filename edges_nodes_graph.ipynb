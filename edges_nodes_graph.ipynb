{
  "nbformat": 4,
  "nbformat_minor": 0,
  "metadata": {
    "colab": {
      "provenance": [],
      "authorship_tag": "ABX9TyOysFx3vk88hT3J1zXc2yoI",
      "include_colab_link": true
    },
    "kernelspec": {
      "name": "python3",
      "display_name": "Python 3"
    },
    "language_info": {
      "name": "python"
    }
  },
  "cells": [
    {
      "cell_type": "markdown",
      "metadata": {
        "id": "view-in-github",
        "colab_type": "text"
      },
      "source": [
        "<a href=\"https://colab.research.google.com/github/Aatika1/openai-API/blob/main/edges_nodes_graph.ipynb\" target=\"_parent\"><img src=\"https://colab.research.google.com/assets/colab-badge.svg\" alt=\"Open In Colab\"/></a>"
      ]
    },
    {
      "cell_type": "code",
      "execution_count": 19,
      "metadata": {
        "id": "uhIcczzcNbnH"
      },
      "outputs": [],
      "source": [
        "%%capture --no-stderr\n",
        "%pip install --quiet -U langgraph"
      ]
    },
    {
      "cell_type": "code",
      "source": [
        "#define state\n",
        "from typing_extensions import TypedDict\n",
        "\n",
        "class LearningState(TypedDict):\n",
        "  prompt:str"
      ],
      "metadata": {
        "id": "YnRYRg5YNjQ_"
      },
      "execution_count": 20,
      "outputs": []
    },
    {
      "cell_type": "code",
      "source": [
        "# prompt: create an example from above LearningState\n",
        "\n",
        "abu_state:LearningState =LearningState(prompt= \"Hi this abuzar \")"
      ],
      "metadata": {
        "id": "B-TCryzROL5e"
      },
      "execution_count": 21,
      "outputs": []
    },
    {
      "cell_type": "code",
      "source": [
        "# print(abu_state)\n",
        "# print(abu_state['prompt'])\n",
        "print(abu_state['prompt'] + \" I am\")\n",
        "print(type(abu_state))"
      ],
      "metadata": {
        "id": "88dM646cOvB2",
        "outputId": "2ec7f13c-f0a2-4ce6-fcc6-17527feca12e",
        "colab": {
          "base_uri": "https://localhost:8080/"
        }
      },
      "execution_count": 23,
      "outputs": [
        {
          "output_type": "stream",
          "name": "stdout",
          "text": [
            "Hi this abuzar I am\n",
            "<class 'dict'>\n"
          ]
        }
      ]
    },
    {
      "cell_type": "code",
      "source": [
        "#Nodes are just py functions\n",
        "def node1(state:LearningState)->LearningState:\n",
        "  print(\"Node_1 State\",state)\n",
        "  return{\"prompt\":state['prompt'] + \" I am\"}\n",
        "\n",
        "def node2(state:LearningState)->LearningState:\n",
        "  print(\"Node_2\",state)\n",
        "  return{\"prompt\":state[\"prompt\"]+\" Abuzar \"}\n",
        "\n",
        "def node3(state:LearningState)->LearningState:\n",
        "  print(\"Node_3\",state)\n",
        "  return{\"prompt\": state[\"prompt\"]+\" I am learning Agentic AI from PIAIC\"}\n"
      ],
      "metadata": {
        "id": "fY96hDfUPS6l"
      },
      "execution_count": 36,
      "outputs": []
    },
    {
      "cell_type": "code",
      "source": [
        "#edges connect to nodes and graph construct\n",
        "\n",
        "from IPython.display import Image, display # Preview Graph\n",
        "\n",
        "from langgraph.graph import StateGraph,START,END\n",
        "from langgraph.graph.state import CompiledStateGraph # type\n",
        "\n",
        "builder:StateGraph=StateGraph(state_schema=LearningState)"
      ],
      "metadata": {
        "id": "Br-DRgUaQyoc"
      },
      "execution_count": 38,
      "outputs": []
    },
    {
      "cell_type": "code",
      "source": [
        "print(type(builder))"
      ],
      "metadata": {
        "id": "2aJ0e23BRzGU",
        "outputId": "997fd51c-bfab-425a-cc37-670801c7b9ca",
        "colab": {
          "base_uri": "https://localhost:8080/"
        }
      },
      "execution_count": 39,
      "outputs": [
        {
          "output_type": "stream",
          "name": "stdout",
          "text": [
            "<class 'langgraph.graph.state.StateGraph'>\n"
          ]
        }
      ]
    },
    {
      "cell_type": "code",
      "source": [
        "# Nodes\n",
        "builder.add_node(\"node1\",node1)\n",
        "builder.add_node(\"node2\",node2)\n",
        "builder.add_node(\"node3\",node3)"
      ],
      "metadata": {
        "id": "rsr4K9HcR5-6",
        "outputId": "cea2f861-853e-4941-d31a-dbf997a03614",
        "colab": {
          "base_uri": "https://localhost:8080/"
        }
      },
      "execution_count": 40,
      "outputs": [
        {
          "output_type": "execute_result",
          "data": {
            "text/plain": [
              "<langgraph.graph.state.StateGraph at 0x7cff937b8c10>"
            ]
          },
          "metadata": {},
          "execution_count": 40
        }
      ]
    },
    {
      "cell_type": "code",
      "source": [
        "# edges logic\n",
        "builder.add_edge(START,\"node1\")\n",
        "builder.add_edge(\"node1\",\"node2\")\n",
        "builder.add_edge(\"node2\",\"node3\")\n",
        "builder.add_edge(\"node3\",END)"
      ],
      "metadata": {
        "id": "U-q6Gs7zSJod",
        "outputId": "676da92e-195c-432c-cb9a-139bdf6414f2",
        "colab": {
          "base_uri": "https://localhost:8080/"
        }
      },
      "execution_count": 41,
      "outputs": [
        {
          "output_type": "execute_result",
          "data": {
            "text/plain": [
              "<langgraph.graph.state.StateGraph at 0x7cff937b8c10>"
            ]
          },
          "metadata": {},
          "execution_count": 41
        }
      ]
    },
    {
      "cell_type": "code",
      "source": [
        "graph:CompiledStateGraph=builder.compile()"
      ],
      "metadata": {
        "id": "nuSDowlUShkt"
      },
      "execution_count": 42,
      "outputs": []
    },
    {
      "cell_type": "code",
      "source": [
        "# View\n",
        "display(Image(graph.get_graph().draw_mermaid_png()))"
      ],
      "metadata": {
        "id": "aDqhTcjyStON",
        "outputId": "1509ac6d-6455-4c3f-a29d-5c67d1f80aa0",
        "colab": {
          "base_uri": "https://localhost:8080/",
          "height": 449
        }
      },
      "execution_count": 43,
      "outputs": [
        {
          "output_type": "display_data",
          "data": {
            "image/png": "[encoded data removed]",
            "text/plain": [
              "<IPython.core.display.Image object>"
            ]
          },
          "metadata": {}
        }
      ]
    },
    {
      "cell_type": "code",
      "source": [
        "#Graph Invocation\n",
        "graph.invoke({\"prompt\":\"hi\"})"
      ],
      "metadata": {
        "id": "oaO835L7THYV",
        "outputId": "a3062b19-e0ec-4281-fefe-88ef4fb11fdd",
        "colab": {
          "base_uri": "https://localhost:8080/"
        }
      },
      "execution_count": 44,
      "outputs": [
        {
          "output_type": "stream",
          "name": "stdout",
          "text": [
            "Node_1 State {'prompt': 'hi'}\n",
            "Node_2 {'prompt': 'hi I am'}\n",
            "Node_3 {'prompt': 'hi I am Abuzar '}\n"
          ]
        },
        {
          "output_type": "execute_result",
          "data": {
            "text/plain": [
              "{'prompt': 'hi I am Abuzar  I am learning Agentic AI from PIAIC'}"
            ]
          },
          "metadata": {},
          "execution_count": 44
        }
      ]
    }
  ]
}