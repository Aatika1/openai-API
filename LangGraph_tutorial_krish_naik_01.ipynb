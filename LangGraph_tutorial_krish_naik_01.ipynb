{
  "nbformat": 4,
  "nbformat_minor": 0,
  "metadata": {
    "colab": {
      "provenance": [],
      "authorship_tag": "ABX9TyPMubkPihHDd2C4Ysy1hNru",
      "include_colab_link": true
    },
    "kernelspec": {
      "name": "python3",
      "display_name": "Python 3"
    },
    "language_info": {
      "name": "python"
    }
  },
  "cells": [
    {
      "cell_type": "markdown",
      "metadata": {
        "id": "view-in-github",
        "colab_type": "text"
      },
      "source": [
        "<a href=\"https://colab.research.google.com/github/Aatika1/openai-API/blob/main/LangGraph_tutorial_krish_naik_01.ipynb\" target=\"_parent\"><img src=\"https://colab.research.google.com/assets/colab-badge.svg\" alt=\"Open In Colab\"/></a>"
      ]
    },
    {
      "cell_type": "markdown",
      "source": [
        "#**LangGraph:**\n",
        "LangGraph is a library for building stateful,multi-actor applications with LLMs,used to create agent and multi agents workflows, compare to other LLMs frameworks, it offers these core benefits: cycle controllability, and persistance. LangGraph allow you to define flows that involves cycles, essential for most agentic architectures, differentiating it from DAG-based solutions    \n"
      ],
      "metadata": {
        "id": "FqHDZeLagXE8"
      }
    },
    {
      "cell_type": "markdown",
      "source": [
        "#**Agenda**\n",
        "\n",
        "\n",
        "1.   what is LangGraph\n",
        "2.   why langGraph\n",
        "\n",
        "1.   Getting started with langGraph\n",
        "\n",
        "\n",
        "\n",
        "\n"
      ],
      "metadata": {
        "id": "WhCEqHtwjC2O"
      }
    },
    {
      "cell_type": "markdown",
      "source": [
        "#**Why langGraph:**\n",
        "amazing benefits\n",
        "\n",
        "1.   Simplifies development: state management and agent cordination\n",
        "       \n",
        "       chatbot\n",
        "\n",
        "       1agent ----->google search\n",
        "        \n",
        "      2agent ----->wikipedia search    =>    {state mangement}\n",
        "\n",
        "      3agent ----->vector DB search    =>   {agent cordination=mean comunication b/w this kind of agents}   \n",
        "\n",
        "\n",
        "      as developer we need define [workflow and logic]  \n",
        "\n",
        "2.flexibility:\n",
        "with a langGraph developers have the flexibility to define their own agent logic and communication protocols. This allows for highly customized applications tailored to specific use cases. Whether you need a chatbot that can handle various types of user requests or multi-agent system that perform complex tasks,LangGraph provides the tools to build exactly  what you need.It's all about what you need giving you the power to create.\n",
        "\n",
        "3.Scalability\n",
        "\n",
        "we can actually build large scale multi-agents applications\n",
        "\n",
        "(it can handle high volume of interactions) iteraction can be b/w agents and complex workflow\n",
        "\n",
        "4.fault tolerance ▶ handle error ,fault tolerance\n",
        "            \n",
        "            ther core feature that reliablity\n",
        "\n",
        "\n",
        "\n",
        "\n",
        "\n",
        "\n",
        "\n"
      ],
      "metadata": {
        "id": "IWf0jM4Wk9sN"
      }
    },
    {
      "cell_type": "markdown",
      "source": [
        "#Chatbots with LangGraph"
      ],
      "metadata": {
        "id": "P3jKYLRNO0ur"
      }
    },
    {
      "cell_type": "code",
      "source": [
        "!pip install langgraph langsmith"
      ],
      "metadata": {
        "colab": {
          "base_uri": "https://localhost:8080/"
        },
        "id": "xBfwVAd-jcOh",
        "outputId": "7399f834-746b-4ad8-fbcd-819d0f0a3852"
      },
      "execution_count": 36,
      "outputs": [
        {
          "output_type": "stream",
          "name": "stdout",
          "text": [
            "Requirement already satisfied: langgraph in /usr/local/lib/python3.10/dist-packages (0.2.45)\n",
            "Requirement already satisfied: langsmith in /usr/local/lib/python3.10/dist-packages (0.1.137)\n",
            "Requirement already satisfied: langchain-core!=0.3.0,!=0.3.1,!=0.3.10,!=0.3.11,!=0.3.12,!=0.3.13,!=0.3.14,!=0.3.2,!=0.3.3,!=0.3.4,!=0.3.5,!=0.3.6,!=0.3.7,!=0.3.8,!=0.3.9,<0.4.0,>=0.2.43 in /usr/local/lib/python3.10/dist-packages (from langgraph) (0.3.15)\n",
            "Requirement already satisfied: langgraph-checkpoint<3.0.0,>=2.0.0 in /usr/local/lib/python3.10/dist-packages (from langgraph) (2.0.2)\n",
            "Requirement already satisfied: langgraph-sdk<0.2.0,>=0.1.32 in /usr/local/lib/python3.10/dist-packages (from langgraph) (0.1.35)\n",
            "Requirement already satisfied: httpx<1,>=0.23.0 in /usr/local/lib/python3.10/dist-packages (from langsmith) (0.27.2)\n",
            "Requirement already satisfied: orjson<4.0.0,>=3.9.14 in /usr/local/lib/python3.10/dist-packages (from langsmith) (3.10.10)\n",
            "Requirement already satisfied: pydantic<3,>=1 in /usr/local/lib/python3.10/dist-packages (from langsmith) (2.9.2)\n",
            "Requirement already satisfied: requests<3,>=2 in /usr/local/lib/python3.10/dist-packages (from langsmith) (2.32.3)\n",
            "Requirement already satisfied: requests-toolbelt<2.0.0,>=1.0.0 in /usr/local/lib/python3.10/dist-packages (from langsmith) (1.0.0)\n",
            "Requirement already satisfied: anyio in /usr/local/lib/python3.10/dist-packages (from httpx<1,>=0.23.0->langsmith) (3.7.1)\n",
            "Requirement already satisfied: certifi in /usr/local/lib/python3.10/dist-packages (from httpx<1,>=0.23.0->langsmith) (2024.8.30)\n",
            "Requirement already satisfied: httpcore==1.* in /usr/local/lib/python3.10/dist-packages (from httpx<1,>=0.23.0->langsmith) (1.0.6)\n",
            "Requirement already satisfied: idna in /usr/local/lib/python3.10/dist-packages (from httpx<1,>=0.23.0->langsmith) (3.10)\n",
            "Requirement already satisfied: sniffio in /usr/local/lib/python3.10/dist-packages (from httpx<1,>=0.23.0->langsmith) (1.3.1)\n",
            "Requirement already satisfied: h11<0.15,>=0.13 in /usr/local/lib/python3.10/dist-packages (from httpcore==1.*->httpx<1,>=0.23.0->langsmith) (0.14.0)\n",
            "Requirement already satisfied: PyYAML>=5.3 in /usr/local/lib/python3.10/dist-packages (from langchain-core!=0.3.0,!=0.3.1,!=0.3.10,!=0.3.11,!=0.3.12,!=0.3.13,!=0.3.14,!=0.3.2,!=0.3.3,!=0.3.4,!=0.3.5,!=0.3.6,!=0.3.7,!=0.3.8,!=0.3.9,<0.4.0,>=0.2.43->langgraph) (6.0.2)\n",
            "Requirement already satisfied: jsonpatch<2.0,>=1.33 in /usr/local/lib/python3.10/dist-packages (from langchain-core!=0.3.0,!=0.3.1,!=0.3.10,!=0.3.11,!=0.3.12,!=0.3.13,!=0.3.14,!=0.3.2,!=0.3.3,!=0.3.4,!=0.3.5,!=0.3.6,!=0.3.7,!=0.3.8,!=0.3.9,<0.4.0,>=0.2.43->langgraph) (1.33)\n",
            "Requirement already satisfied: packaging<25,>=23.2 in /usr/local/lib/python3.10/dist-packages (from langchain-core!=0.3.0,!=0.3.1,!=0.3.10,!=0.3.11,!=0.3.12,!=0.3.13,!=0.3.14,!=0.3.2,!=0.3.3,!=0.3.4,!=0.3.5,!=0.3.6,!=0.3.7,!=0.3.8,!=0.3.9,<0.4.0,>=0.2.43->langgraph) (24.1)\n",
            "Requirement already satisfied: tenacity!=8.4.0,<10.0.0,>=8.1.0 in /usr/local/lib/python3.10/dist-packages (from langchain-core!=0.3.0,!=0.3.1,!=0.3.10,!=0.3.11,!=0.3.12,!=0.3.13,!=0.3.14,!=0.3.2,!=0.3.3,!=0.3.4,!=0.3.5,!=0.3.6,!=0.3.7,!=0.3.8,!=0.3.9,<0.4.0,>=0.2.43->langgraph) (9.0.0)\n",
            "Requirement already satisfied: typing-extensions>=4.7 in /usr/local/lib/python3.10/dist-packages (from langchain-core!=0.3.0,!=0.3.1,!=0.3.10,!=0.3.11,!=0.3.12,!=0.3.13,!=0.3.14,!=0.3.2,!=0.3.3,!=0.3.4,!=0.3.5,!=0.3.6,!=0.3.7,!=0.3.8,!=0.3.9,<0.4.0,>=0.2.43->langgraph) (4.12.2)\n",
            "Requirement already satisfied: msgpack<2.0.0,>=1.1.0 in /usr/local/lib/python3.10/dist-packages (from langgraph-checkpoint<3.0.0,>=2.0.0->langgraph) (1.1.0)\n",
            "Requirement already satisfied: httpx-sse>=0.4.0 in /usr/local/lib/python3.10/dist-packages (from langgraph-sdk<0.2.0,>=0.1.32->langgraph) (0.4.0)\n",
            "Requirement already satisfied: annotated-types>=0.6.0 in /usr/local/lib/python3.10/dist-packages (from pydantic<3,>=1->langsmith) (0.7.0)\n",
            "Requirement already satisfied: pydantic-core==2.23.4 in /usr/local/lib/python3.10/dist-packages (from pydantic<3,>=1->langsmith) (2.23.4)\n",
            "Requirement already satisfied: charset-normalizer<4,>=2 in /usr/local/lib/python3.10/dist-packages (from requests<3,>=2->langsmith) (3.4.0)\n",
            "Requirement already satisfied: urllib3<3,>=1.21.1 in /usr/local/lib/python3.10/dist-packages (from requests<3,>=2->langsmith) (2.2.3)\n",
            "Requirement already satisfied: jsonpointer>=1.9 in /usr/local/lib/python3.10/dist-packages (from jsonpatch<2.0,>=1.33->langchain-core!=0.3.0,!=0.3.1,!=0.3.10,!=0.3.11,!=0.3.12,!=0.3.13,!=0.3.14,!=0.3.2,!=0.3.3,!=0.3.4,!=0.3.5,!=0.3.6,!=0.3.7,!=0.3.8,!=0.3.9,<0.4.0,>=0.2.43->langgraph) (3.0.0)\n",
            "Requirement already satisfied: exceptiongroup in /usr/local/lib/python3.10/dist-packages (from anyio->httpx<1,>=0.23.0->langsmith) (1.2.2)\n"
          ]
        }
      ]
    },
    {
      "cell_type": "code",
      "source": [
        "!pip install langchain langchain_groq langchain_community"
      ],
      "metadata": {
        "colab": {
          "base_uri": "https://localhost:8080/"
        },
        "id": "9FL5Hu6gRL1i",
        "outputId": "98281b9d-16a4-4f91-8b76-849a65815fdf"
      },
      "execution_count": 37,
      "outputs": [
        {
          "output_type": "stream",
          "name": "stdout",
          "text": [
            "Requirement already satisfied: langchain in /usr/local/lib/python3.10/dist-packages (0.3.7)\n",
            "Requirement already satisfied: langchain_groq in /usr/local/lib/python3.10/dist-packages (0.2.1)\n",
            "Requirement already satisfied: langchain_community in /usr/local/lib/python3.10/dist-packages (0.3.5)\n",
            "Requirement already satisfied: PyYAML>=5.3 in /usr/local/lib/python3.10/dist-packages (from langchain) (6.0.2)\n",
            "Requirement already satisfied: SQLAlchemy<3,>=1.4 in /usr/local/lib/python3.10/dist-packages (from langchain) (2.0.35)\n",
            "Requirement already satisfied: aiohttp<4.0.0,>=3.8.3 in /usr/local/lib/python3.10/dist-packages (from langchain) (3.10.10)\n",
            "Requirement already satisfied: async-timeout<5.0.0,>=4.0.0 in /usr/local/lib/python3.10/dist-packages (from langchain) (4.0.3)\n",
            "Requirement already satisfied: langchain-core<0.4.0,>=0.3.15 in /usr/local/lib/python3.10/dist-packages (from langchain) (0.3.15)\n",
            "Requirement already satisfied: langchain-text-splitters<0.4.0,>=0.3.0 in /usr/local/lib/python3.10/dist-packages (from langchain) (0.3.0)\n",
            "Requirement already satisfied: langsmith<0.2.0,>=0.1.17 in /usr/local/lib/python3.10/dist-packages (from langchain) (0.1.137)\n",
            "Requirement already satisfied: numpy<2,>=1 in /usr/local/lib/python3.10/dist-packages (from langchain) (1.26.4)\n",
            "Requirement already satisfied: pydantic<3.0.0,>=2.7.4 in /usr/local/lib/python3.10/dist-packages (from langchain) (2.9.2)\n",
            "Requirement already satisfied: requests<3,>=2 in /usr/local/lib/python3.10/dist-packages (from langchain) (2.32.3)\n",
            "Requirement already satisfied: tenacity!=8.4.0,<10,>=8.1.0 in /usr/local/lib/python3.10/dist-packages (from langchain) (9.0.0)\n",
            "Requirement already satisfied: groq<1,>=0.4.1 in /usr/local/lib/python3.10/dist-packages (from langchain_groq) (0.11.0)\n",
            "Requirement already satisfied: dataclasses-json<0.7,>=0.5.7 in /usr/local/lib/python3.10/dist-packages (from langchain_community) (0.6.7)\n",
            "Requirement already satisfied: httpx-sse<0.5.0,>=0.4.0 in /usr/local/lib/python3.10/dist-packages (from langchain_community) (0.4.0)\n",
            "Requirement already satisfied: pydantic-settings<3.0.0,>=2.4.0 in /usr/local/lib/python3.10/dist-packages (from langchain_community) (2.6.1)\n",
            "Requirement already satisfied: aiohappyeyeballs>=2.3.0 in /usr/local/lib/python3.10/dist-packages (from aiohttp<4.0.0,>=3.8.3->langchain) (2.4.3)\n",
            "Requirement already satisfied: aiosignal>=1.1.2 in /usr/local/lib/python3.10/dist-packages (from aiohttp<4.0.0,>=3.8.3->langchain) (1.3.1)\n",
            "Requirement already satisfied: attrs>=17.3.0 in /usr/local/lib/python3.10/dist-packages (from aiohttp<4.0.0,>=3.8.3->langchain) (24.2.0)\n",
            "Requirement already satisfied: frozenlist>=1.1.1 in /usr/local/lib/python3.10/dist-packages (from aiohttp<4.0.0,>=3.8.3->langchain) (1.5.0)\n",
            "Requirement already satisfied: multidict<7.0,>=4.5 in /usr/local/lib/python3.10/dist-packages (from aiohttp<4.0.0,>=3.8.3->langchain) (6.1.0)\n",
            "Requirement already satisfied: yarl<2.0,>=1.12.0 in /usr/local/lib/python3.10/dist-packages (from aiohttp<4.0.0,>=3.8.3->langchain) (1.17.0)\n",
            "Requirement already satisfied: marshmallow<4.0.0,>=3.18.0 in /usr/local/lib/python3.10/dist-packages (from dataclasses-json<0.7,>=0.5.7->langchain_community) (3.23.1)\n",
            "Requirement already satisfied: typing-inspect<1,>=0.4.0 in /usr/local/lib/python3.10/dist-packages (from dataclasses-json<0.7,>=0.5.7->langchain_community) (0.9.0)\n",
            "Requirement already satisfied: anyio<5,>=3.5.0 in /usr/local/lib/python3.10/dist-packages (from groq<1,>=0.4.1->langchain_groq) (3.7.1)\n",
            "Requirement already satisfied: distro<2,>=1.7.0 in /usr/local/lib/python3.10/dist-packages (from groq<1,>=0.4.1->langchain_groq) (1.9.0)\n",
            "Requirement already satisfied: httpx<1,>=0.23.0 in /usr/local/lib/python3.10/dist-packages (from groq<1,>=0.4.1->langchain_groq) (0.27.2)\n",
            "Requirement already satisfied: sniffio in /usr/local/lib/python3.10/dist-packages (from groq<1,>=0.4.1->langchain_groq) (1.3.1)\n",
            "Requirement already satisfied: typing-extensions<5,>=4.7 in /usr/local/lib/python3.10/dist-packages (from groq<1,>=0.4.1->langchain_groq) (4.12.2)\n",
            "Requirement already satisfied: jsonpatch<2.0,>=1.33 in /usr/local/lib/python3.10/dist-packages (from langchain-core<0.4.0,>=0.3.15->langchain) (1.33)\n",
            "Requirement already satisfied: packaging<25,>=23.2 in /usr/local/lib/python3.10/dist-packages (from langchain-core<0.4.0,>=0.3.15->langchain) (24.1)\n",
            "Requirement already satisfied: orjson<4.0.0,>=3.9.14 in /usr/local/lib/python3.10/dist-packages (from langsmith<0.2.0,>=0.1.17->langchain) (3.10.10)\n",
            "Requirement already satisfied: requests-toolbelt<2.0.0,>=1.0.0 in /usr/local/lib/python3.10/dist-packages (from langsmith<0.2.0,>=0.1.17->langchain) (1.0.0)\n",
            "Requirement already satisfied: annotated-types>=0.6.0 in /usr/local/lib/python3.10/dist-packages (from pydantic<3.0.0,>=2.7.4->langchain) (0.7.0)\n",
            "Requirement already satisfied: pydantic-core==2.23.4 in /usr/local/lib/python3.10/dist-packages (from pydantic<3.0.0,>=2.7.4->langchain) (2.23.4)\n",
            "Requirement already satisfied: python-dotenv>=0.21.0 in /usr/local/lib/python3.10/dist-packages (from pydantic-settings<3.0.0,>=2.4.0->langchain_community) (1.0.1)\n",
            "Requirement already satisfied: charset-normalizer<4,>=2 in /usr/local/lib/python3.10/dist-packages (from requests<3,>=2->langchain) (3.4.0)\n",
            "Requirement already satisfied: idna<4,>=2.5 in /usr/local/lib/python3.10/dist-packages (from requests<3,>=2->langchain) (3.10)\n",
            "Requirement already satisfied: urllib3<3,>=1.21.1 in /usr/local/lib/python3.10/dist-packages (from requests<3,>=2->langchain) (2.2.3)\n",
            "Requirement already satisfied: certifi>=2017.4.17 in /usr/local/lib/python3.10/dist-packages (from requests<3,>=2->langchain) (2024.8.30)\n",
            "Requirement already satisfied: greenlet!=0.4.17 in /usr/local/lib/python3.10/dist-packages (from SQLAlchemy<3,>=1.4->langchain) (3.1.1)\n",
            "Requirement already satisfied: exceptiongroup in /usr/local/lib/python3.10/dist-packages (from anyio<5,>=3.5.0->groq<1,>=0.4.1->langchain_groq) (1.2.2)\n",
            "Requirement already satisfied: httpcore==1.* in /usr/local/lib/python3.10/dist-packages (from httpx<1,>=0.23.0->groq<1,>=0.4.1->langchain_groq) (1.0.6)\n",
            "Requirement already satisfied: h11<0.15,>=0.13 in /usr/local/lib/python3.10/dist-packages (from httpcore==1.*->httpx<1,>=0.23.0->groq<1,>=0.4.1->langchain_groq) (0.14.0)\n",
            "Requirement already satisfied: jsonpointer>=1.9 in /usr/local/lib/python3.10/dist-packages (from jsonpatch<2.0,>=1.33->langchain-core<0.4.0,>=0.3.15->langchain) (3.0.0)\n",
            "Requirement already satisfied: mypy-extensions>=0.3.0 in /usr/local/lib/python3.10/dist-packages (from typing-inspect<1,>=0.4.0->dataclasses-json<0.7,>=0.5.7->langchain_community) (1.0.0)\n",
            "Requirement already satisfied: propcache>=0.2.0 in /usr/local/lib/python3.10/dist-packages (from yarl<2.0,>=1.12.0->aiohttp<4.0.0,>=3.8.3->langchain) (0.2.0)\n"
          ]
        }
      ]
    },
    {
      "cell_type": "code",
      "source": [
        "from google.colab import userdata\n",
        "groq_api_key = userdata.get(\"groq_api_key\")\n",
        "langsmith=userdata.get(\"LANGCHAIN_API_KEY\")\n",
        "print(langsmith)\n",
        "print(groq_api_key)"
      ],
      "metadata": {
        "colab": {
          "base_uri": "https://localhost:8080/"
        },
        "id": "hpHFDJRbReiK",
        "outputId": "54fa62ea-9f6f-4378-e1bf-ece7552498f6"
      },
      "execution_count": 38,
      "outputs": [
        {
          "output_type": "stream",
          "name": "stdout",
          "text": [
            "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\n",
            "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\n"
          ]
        }
      ]
    },
    {
      "cell_type": "code",
      "source": [
        "import os\n",
        "os.environ[\"LANGCHAIN_API_KEY\"]=langsmith\n",
        "os.environ[\"LANGCHAIN_TRACING_V2\"]=\"true\"\n",
        "os.environ[\"LANGCHAIN_PROJECT\"]=\"chatbot creationg\"\n"
      ],
      "metadata": {
        "id": "ogT6mLK5UlqK"
      },
      "execution_count": 39,
      "outputs": []
    },
    {
      "cell_type": "code",
      "source": [
        "from langchain_groq import ChatGroq"
      ],
      "metadata": {
        "id": "cc_KDEV0VmjL"
      },
      "execution_count": 40,
      "outputs": []
    },
    {
      "cell_type": "code",
      "source": [
        "llm = ChatGroq(groq_api_key=groq_api_key,model_name=\"Gemma2-9b-It\")\n",
        "llm"
      ],
      "metadata": {
        "colab": {
          "base_uri": "https://localhost:8080/"
        },
        "id": "H8cGQ5xCVyq6",
        "outputId": "dad65b05-3613-4170-9d3a-728ce7213194"
      },
      "execution_count": 41,
      "outputs": [
        {
          "output_type": "execute_result",
          "data": {
            "text/plain": [
              "ChatGroq(client=<groq.resources.chat.completions.Completions object at 0x7deb5dddc130>, async_client=<groq.resources.chat.completions.AsyncCompletions object at 0x7deb5dddf9a0>, model_name='Gemma2-9b-It', model_kwargs={}, groq_api_key=SecretStr('**********'))"
            ]
          },
          "metadata": {},
          "execution_count": 41
        }
      ]
    },
    {
      "cell_type": "markdown",
      "source": [
        "#Start Building Chatbot Using LangGraph"
      ],
      "metadata": {
        "id": "NIEmHoh_XItH"
      }
    },
    {
      "cell_type": "code",
      "source": [
        "from typing import Annotated\n",
        "from typing_extensions import TypedDict\n",
        "from langgraph.graph import StateGraph, START, END\n",
        "from langgraph.graph.message import add_messages"
      ],
      "metadata": {
        "id": "UClQtmUGX8s7"
      },
      "execution_count": 42,
      "outputs": []
    },
    {
      "cell_type": "code",
      "source": [
        "class State(TypedDict):\n",
        "  #Messages have type \"list\" 'the add_messages' function\n",
        "  #in the annotiation defines how it state key should be updated\n",
        "  #(in this case,it append messages to the list, rather than overwriting them)\n",
        "  messages:Annotated[list,add_messages]\n",
        "\n",
        "graph_builder=StateGraph(State)"
      ],
      "metadata": {
        "id": "E5xwuHwdYxrs"
      },
      "execution_count": 43,
      "outputs": []
    },
    {
      "cell_type": "code",
      "source": [
        "graph_builder"
      ],
      "metadata": {
        "colab": {
          "base_uri": "https://localhost:8080/"
        },
        "id": "munEYUOEZ7E6",
        "outputId": "7ddf7616-6965-4970-b11c-90ca5efa59b2"
      },
      "execution_count": 44,
      "outputs": [
        {
          "output_type": "execute_result",
          "data": {
            "text/plain": [
              "<langgraph.graph.state.StateGraph at 0x7deb5ddddb40>"
            ]
          },
          "metadata": {},
          "execution_count": 44
        }
      ]
    },
    {
      "cell_type": "code",
      "source": [
        "def chatbot(state:State):\n",
        "  return {\"messages\":llm.invoke(state[\"messages\"])}"
      ],
      "metadata": {
        "id": "UKQBScNubjZ6"
      },
      "execution_count": 45,
      "outputs": []
    },
    {
      "cell_type": "code",
      "source": [
        "graph_builder.add_node(\"chatbot\",chatbot)"
      ],
      "metadata": {
        "colab": {
          "base_uri": "https://localhost:8080/"
        },
        "id": "9z-pZKIRb8Ej",
        "outputId": "b19be770-1190-4c43-d3bd-18e65e44dd5b"
      },
      "execution_count": 46,
      "outputs": [
        {
          "output_type": "execute_result",
          "data": {
            "text/plain": [
              "<langgraph.graph.state.StateGraph at 0x7deb5ddddb40>"
            ]
          },
          "metadata": {},
          "execution_count": 46
        }
      ]
    },
    {
      "cell_type": "code",
      "source": [
        "graph_builder.add_edge(START,\"chatbot\")"
      ],
      "metadata": {
        "colab": {
          "base_uri": "https://localhost:8080/"
        },
        "id": "TqUmeVj3cJFB",
        "outputId": "79026936-f324-4842-9027-40a046430c87"
      },
      "execution_count": 47,
      "outputs": [
        {
          "output_type": "execute_result",
          "data": {
            "text/plain": [
              "<langgraph.graph.state.StateGraph at 0x7deb5ddddb40>"
            ]
          },
          "metadata": {},
          "execution_count": 47
        }
      ]
    },
    {
      "cell_type": "code",
      "source": [
        "graph_builder.add_edge(\"chatbot\",END)"
      ],
      "metadata": {
        "colab": {
          "base_uri": "https://localhost:8080/"
        },
        "id": "mOJNnfhIcNnD",
        "outputId": "904e4e00-366b-462c-8893-a4edff13afb9"
      },
      "execution_count": 18,
      "outputs": [
        {
          "output_type": "execute_result",
          "data": {
            "text/plain": [
              "<langgraph.graph.state.StateGraph at 0x7deb5e18f8e0>"
            ]
          },
          "metadata": {},
          "execution_count": 18
        }
      ]
    },
    {
      "cell_type": "code",
      "source": [
        "graph=graph_builder.compile()"
      ],
      "metadata": {
        "id": "e-G6Imp8c0cC"
      },
      "execution_count": 48,
      "outputs": []
    },
    {
      "cell_type": "code",
      "source": [
        "from IPython.display import Image, display\n",
        "try:\n",
        "  display(Image(graph.get_graph().draw_mermaid_png()))\n",
        "except Exception:\n",
        "  pass"
      ],
      "metadata": {
        "colab": {
          "base_uri": "https://localhost:8080/",
          "height": 251
        },
        "id": "O7w2WhKFd6YQ",
        "outputId": "cf5f95e7-7c18-4037-9757-a0561a86617d"
      },
      "execution_count": 25,
      "outputs": [
        {
          "output_type": "display_data",
          "data": {
            "image/jpeg": "[encoded data removed]",
            "text/plain": [
              "<IPython.core.display.Image object>"
            ]
          },
          "metadata": {}
        }
      ]
    },
    {
      "cell_type": "code",
      "source": [
        "while True:\n",
        "  user_input=input(\"Abuzar: \")\n",
        "  if user_input.lower() in [\"quit\",\"q\",\"exit\"]:\n",
        "    print(\"Nice to meet you\")\n",
        "    break\n",
        "  for event in graph.stream({'messages':(\"user\",user_input)}):\n",
        "    print(event.values())\n",
        "    for value in event.values():\n",
        "      print(value['messages'])\n",
        "      print(\"AI Agent:\",value[\"messages\"].content)"
      ],
      "metadata": {
        "colab": {
          "base_uri": "https://localhost:8080/"
        },
        "id": "pY2INrhLhcyt",
        "outputId": "96d65c8c-0255-483c-c42d-028b33615daa"
      },
      "execution_count": 50,
      "outputs": [
        {
          "output_type": "stream",
          "name": "stdout",
          "text": [
            "Abuzar: hi\n",
            "dict_values([{'messages': AIMessage(content='Hello! 👋 How can I help you today?\\n', additional_kwargs={}, response_metadata={'token_usage': {'completion_tokens': 13, 'prompt_tokens': 10, 'total_tokens': 23, 'completion_time': 0.023636364, 'prompt_time': 3.8e-07, 'queue_time': 0.013127749000000001, 'total_time': 0.023636744}, 'model_name': 'Gemma2-9b-It', 'system_fingerprint': 'fp_10c08bf97d', 'finish_reason': 'stop', 'logprobs': None}, id='run-f1e6a91c-9e51-45be-8e75-30d4dd82bdfa-0', usage_metadata={'input_tokens': 10, 'output_tokens': 13, 'total_tokens': 23})}])\n",
            "content='Hello! 👋 How can I help you today?\\n' additional_kwargs={} response_metadata={'token_usage': {'completion_tokens': 13, 'prompt_tokens': 10, 'total_tokens': 23, 'completion_time': 0.023636364, 'prompt_time': 3.8e-07, 'queue_time': 0.013127749000000001, 'total_time': 0.023636744}, 'model_name': 'Gemma2-9b-It', 'system_fingerprint': 'fp_10c08bf97d', 'finish_reason': 'stop', 'logprobs': None} id='run-f1e6a91c-9e51-45be-8e75-30d4dd82bdfa-0' usage_metadata={'input_tokens': 10, 'output_tokens': 13, 'total_tokens': 23}\n",
            "AI Agent: Hello! 👋 How can I help you today?\n",
            "\n",
            "Abuzar: can you explain this code(while True:   user_input=input(\"Abuzar: \")   if user_input.lower() in [\"quit\",\"q\",\"exit\"]:     print(\"Nice to meet you\")     break   for event in graph.stream({'messages':(\"user\",user_input)}):     print(event.values())     for value in event.values():       print(value['messages'])       print(\"AI Agent:\",value[\"messages\"].content))\n",
            "dict_values([{'messages': AIMessage(content='Let\\'s break down this Python code snippet step by step.\\n\\n**The Code\\'s Purpose**\\n\\nThis code appears to be designed for a simple chatbot interaction. It continuously listens for user input, processes it, and generates responses. It also includes logic to terminate the conversation gracefully.\\n\\n**Code Explanation**\\n\\n1.  **Infinite Loop:**\\n    *   `while True:`  This creates an infinite loop, meaning the code inside will keep running until explicitly stopped.\\n\\n2.  **User Input:**\\n    *   `user_input = input(\"Abuzar: \")`  This line prompts the user with the text \"Abuzar: \" and waits for them to type something and press Enter. The entered text is then stored in the variable `user_input`.\\n\\n3.  **Exit Condition:**\\n    *   `if user_input.lower() in [\"quit\", \"q\", \"exit\"]:`  This checks if the user\\'s input (converted to lowercase) is one of the words \"quit\", \"q\", or \"exit\". If it is, the loop will be broken.\\n\\n4.  **Response:**\\n    *   `print(\"Nice to meet you\")` If the user enters a quit command, this line prints \"Nice to meet you\" as a farewell message.\\n    *   `break` This statement immediately exits the `while` loop.\\n\\n5.  **Processing with `graph`:**\\n    *   `for event in graph.stream({\\'messages\\': (\"user\", user_input)}):` This line seems to be interacting with a system or library called `graph`. It appears to be sending the user\\'s input (`user_input`) as part of a stream of events. The `{\\'messages\\': (\"user\", user_input)}` suggests that this stream is structured with a message type (\"user\") and the content of the message.\\n\\n6.  **Printing Event Values:**\\n    *   `print(event.values())` This prints the values associated with each event received from `graph`.\\n\\n7.  **Extracting Message Content:**\\n    *   `for value in event.values():` This iterates through each value within an event.\\n    *   `print(value[\\'messages\\'])` This prints the value associated with the key \"messages\" within each event.\\n    *   `print(\"AI Agent:\", value[\"messages\"].content)` This line extracts the `content` attribute from the \"messages\" value and prints it as the AI\\'s response, preceded by \"AI Agent:\".\\n\\n**Important Notes**\\n\\n*   **`graph` Library:** The code heavily relies on a library or system named `graph`. Without knowing more about this `graph` object, it\\'s difficult to provide a precise explanation of its functionality. You\\'d need to consult its documentation.\\n*   **Contextual Understanding:**  This code snippet represents a simplified interaction. A real-world chatbot would likely involve more complex natural language processing (NLP) techniques to understand user intent and generate more sophisticated responses.\\n\\nLet me know if you have any more specific questions or if you can provide more information about the `graph` library!\\n', additional_kwargs={}, response_metadata={'token_usage': {'completion_tokens': 665, 'prompt_tokens': 107, 'total_tokens': 772, 'completion_time': 1.209090909, 'prompt_time': 0.004023893, 'queue_time': 0.010265196, 'total_time': 1.213114802}, 'model_name': 'Gemma2-9b-It', 'system_fingerprint': 'fp_10c08bf97d', 'finish_reason': 'stop', 'logprobs': None}, id='run-e345ec6f-48c1-4583-afe2-03385f4947ee-0', usage_metadata={'input_tokens': 107, 'output_tokens': 665, 'total_tokens': 772})}])\n",
            "content='Let\\'s break down this Python code snippet step by step.\\n\\n**The Code\\'s Purpose**\\n\\nThis code appears to be designed for a simple chatbot interaction. It continuously listens for user input, processes it, and generates responses. It also includes logic to terminate the conversation gracefully.\\n\\n**Code Explanation**\\n\\n1.  **Infinite Loop:**\\n    *   `while True:`  This creates an infinite loop, meaning the code inside will keep running until explicitly stopped.\\n\\n2.  **User Input:**\\n    *   `user_input = input(\"Abuzar: \")`  This line prompts the user with the text \"Abuzar: \" and waits for them to type something and press Enter. The entered text is then stored in the variable `user_input`.\\n\\n3.  **Exit Condition:**\\n    *   `if user_input.lower() in [\"quit\", \"q\", \"exit\"]:`  This checks if the user\\'s input (converted to lowercase) is one of the words \"quit\", \"q\", or \"exit\". If it is, the loop will be broken.\\n\\n4.  **Response:**\\n    *   `print(\"Nice to meet you\")` If the user enters a quit command, this line prints \"Nice to meet you\" as a farewell message.\\n    *   `break` This statement immediately exits the `while` loop.\\n\\n5.  **Processing with `graph`:**\\n    *   `for event in graph.stream({\\'messages\\': (\"user\", user_input)}):` This line seems to be interacting with a system or library called `graph`. It appears to be sending the user\\'s input (`user_input`) as part of a stream of events. The `{\\'messages\\': (\"user\", user_input)}` suggests that this stream is structured with a message type (\"user\") and the content of the message.\\n\\n6.  **Printing Event Values:**\\n    *   `print(event.values())` This prints the values associated with each event received from `graph`.\\n\\n7.  **Extracting Message Content:**\\n    *   `for value in event.values():` This iterates through each value within an event.\\n    *   `print(value[\\'messages\\'])` This prints the value associated with the key \"messages\" within each event.\\n    *   `print(\"AI Agent:\", value[\"messages\"].content)` This line extracts the `content` attribute from the \"messages\" value and prints it as the AI\\'s response, preceded by \"AI Agent:\".\\n\\n**Important Notes**\\n\\n*   **`graph` Library:** The code heavily relies on a library or system named `graph`. Without knowing more about this `graph` object, it\\'s difficult to provide a precise explanation of its functionality. You\\'d need to consult its documentation.\\n*   **Contextual Understanding:**  This code snippet represents a simplified interaction. A real-world chatbot would likely involve more complex natural language processing (NLP) techniques to understand user intent and generate more sophisticated responses.\\n\\nLet me know if you have any more specific questions or if you can provide more information about the `graph` library!\\n' additional_kwargs={} response_metadata={'token_usage': {'completion_tokens': 665, 'prompt_tokens': 107, 'total_tokens': 772, 'completion_time': 1.209090909, 'prompt_time': 0.004023893, 'queue_time': 0.010265196, 'total_time': 1.213114802}, 'model_name': 'Gemma2-9b-It', 'system_fingerprint': 'fp_10c08bf97d', 'finish_reason': 'stop', 'logprobs': None} id='run-e345ec6f-48c1-4583-afe2-03385f4947ee-0' usage_metadata={'input_tokens': 107, 'output_tokens': 665, 'total_tokens': 772}\n",
            "AI Agent: Let's break down this Python code snippet step by step.\n",
            "\n",
            "**The Code's Purpose**\n",
            "\n",
            "This code appears to be designed for a simple chatbot interaction. It continuously listens for user input, processes it, and generates responses. It also includes logic to terminate the conversation gracefully.\n",
            "\n",
            "**Code Explanation**\n",
            "\n",
            "1.  **Infinite Loop:**\n",
            "    *   `while True:`  This creates an infinite loop, meaning the code inside will keep running until explicitly stopped.\n",
            "\n",
            "2.  **User Input:**\n",
            "    *   `user_input = input(\"Abuzar: \")`  This line prompts the user with the text \"Abuzar: \" and waits for them to type something and press Enter. The entered text is then stored in the variable `user_input`.\n",
            "\n",
            "3.  **Exit Condition:**\n",
            "    *   `if user_input.lower() in [\"quit\", \"q\", \"exit\"]:`  This checks if the user's input (converted to lowercase) is one of the words \"quit\", \"q\", or \"exit\". If it is, the loop will be broken.\n",
            "\n",
            "4.  **Response:**\n",
            "    *   `print(\"Nice to meet you\")` If the user enters a quit command, this line prints \"Nice to meet you\" as a farewell message.\n",
            "    *   `break` This statement immediately exits the `while` loop.\n",
            "\n",
            "5.  **Processing with `graph`:**\n",
            "    *   `for event in graph.stream({'messages': (\"user\", user_input)}):` This line seems to be interacting with a system or library called `graph`. It appears to be sending the user's input (`user_input`) as part of a stream of events. The `{'messages': (\"user\", user_input)}` suggests that this stream is structured with a message type (\"user\") and the content of the message.\n",
            "\n",
            "6.  **Printing Event Values:**\n",
            "    *   `print(event.values())` This prints the values associated with each event received from `graph`.\n",
            "\n",
            "7.  **Extracting Message Content:**\n",
            "    *   `for value in event.values():` This iterates through each value within an event.\n",
            "    *   `print(value['messages'])` This prints the value associated with the key \"messages\" within each event.\n",
            "    *   `print(\"AI Agent:\", value[\"messages\"].content)` This line extracts the `content` attribute from the \"messages\" value and prints it as the AI's response, preceded by \"AI Agent:\".\n",
            "\n",
            "**Important Notes**\n",
            "\n",
            "*   **`graph` Library:** The code heavily relies on a library or system named `graph`. Without knowing more about this `graph` object, it's difficult to provide a precise explanation of its functionality. You'd need to consult its documentation.\n",
            "*   **Contextual Understanding:**  This code snippet represents a simplified interaction. A real-world chatbot would likely involve more complex natural language processing (NLP) techniques to understand user intent and generate more sophisticated responses.\n",
            "\n",
            "Let me know if you have any more specific questions or if you can provide more information about the `graph` library!\n",
            "\n",
            "Abuzar: q\n",
            "Nice to meet you\n"
          ]
        }
      ]
    }
  ]
}